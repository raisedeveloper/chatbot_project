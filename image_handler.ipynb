{
 "cells": [
  {
   "cell_type": "code",
   "execution_count": 3,
   "id": "db1902c9-3dd6-494f-8056-4f07d325c760",
   "metadata": {},
   "outputs": [],
   "source": [
    "import os\n",
    "from PIL import Image\n",
    "import base64\n",
    "from io import BytesIO\n",
    "from wordcloud import WordCloud\n",
    "import matplotlib.pyplot as plt\n",
    "from config import Config"
   ]
  },
  {
   "cell_type": "code",
   "execution_count": 4,
   "id": "1f6058c4-c7af-4a32-872a-b69d0cf27f63",
   "metadata": {},
   "outputs": [],
   "source": [
    "class ImageHandler:\n",
    "    @staticmethod\n",
    "    def process_image(image):\n",
    "        if image is None:\n",
    "            return None\n",
    "        \n",
    "        try:\n",
    "            buffered = BytesIO()\n",
    "            image.save(buffered, format=\"JPEG\")\n",
    "            img_str = base64.b64encode(buffered.getvalue()).decode(\"utf-8\")\n",
    "            return f\"data:image/jpeg;base64,{img_str}\"\n",
    "        except Exception as e:\n",
    "            print(f\"이미지 처리 중 오류 발생: {str(e)}\")\n",
    "            return None\n",
    "\n",
    "    def generate_wordcloud(self):\n",
    "        try:\n",
    "            with open(Config.MAIN_DOC_PATH, 'r', encoding='utf-8') as f:\n",
    "                text = f.read()\n",
    "\n",
    "            wordcloud = WordCloud(\n",
    "                font_path=Config.FONT_PATH,\n",
    "                background_color='white',\n",
    "                width=800, height=400\n",
    "            ).generate(text)\n",
    "\n",
    "            os.makedirs(os.path.dirname(Config.IMG_PATH), exist_ok=True)\n",
    "            plt.figure(figsize=(10, 5))\n",
    "            plt.imshow(wordcloud, interpolation='bilinear')\n",
    "            plt.axis('off')\n",
    "            plt.savefig(Config.IMG_PATH)\n",
    "            plt.close()\n",
    "\n",
    "            return Config.IMG_PATH\n",
    "        except Exception as e:\n",
    "            return f\"오류 발생: {e}\""
   ]
  },
  {
   "cell_type": "code",
   "execution_count": null,
   "id": "bd927bf8-40eb-42aa-a58f-e9b09ddb7dd1",
   "metadata": {},
   "outputs": [],
   "source": []
  }
 ],
 "metadata": {
  "kernelspec": {
   "display_name": ".venv",
   "language": "python",
   "name": "python3"
  },
  "language_info": {
   "codemirror_mode": {
    "name": "ipython",
    "version": 3
   },
   "file_extension": ".py",
   "mimetype": "text/x-python",
   "name": "python",
   "nbconvert_exporter": "python",
   "pygments_lexer": "ipython3",
   "version": "3.10.6"
  }
 },
 "nbformat": 4,
 "nbformat_minor": 5
}
