{
 "cells": [
  {
   "cell_type": "code",
   "execution_count": 3,
   "id": "cc3f7b76-b12b-46c9-9d0a-b11d4f9a03b4",
   "metadata": {},
   "outputs": [],
   "source": [
    "import re\n",
    "from langchain_core.prompts import ChatPromptTemplate\n",
    "from langchain.chains import LLMChain\n",
    "from langchain_community.llms import Ollama"
   ]
  },
  {
   "cell_type": "code",
   "execution_count": 4,
   "id": "0bda4dda-c1ce-4305-ab5b-970f06ee4eb9",
   "metadata": {},
   "outputs": [],
   "source": [
    "class QueryGenerator:\n",
    "    \"\"\"SQL 쿼리 생성을 위한 클래스\"\"\"\n",
    "\n",
    "    def __init__(self):\n",
    "        self.template = \"\"\"\n",
    "        당신은 한국어를 잘하고 MySQL 데이터베이스의 쿼리를 생성하는 전문가입니다.\n",
    "        데이터베이스 스키마 정보:\n",
    "        {schema_info}\n",
    "        \n",
    "        이전 피드백 정보:\n",
    "        {feedback_info}\n",
    "        \n",
    "        위 정보를 바탕으로 다음 질문에 대한 MySQL 쿼리를 생성해주세요.\n",
    "        질문: {question}\n",
    "        \n",
    "        규칙:\n",
    "        1. 순수한 SQL 쿼리만 작성하세요\n",
    "        2. 컬럼의 실제 값을 기준으로 쿼리를 작성하세요\n",
    "        3. 설명이나 주석을 포함하지 마세요\n",
    "        4. 쿼리는 SELECT 문으로 시작하고 세미콜론(;)으로 끝나야 합니다\n",
    "        5. WHERE 절에서는 정확한 값 매칭을 위해 = 연산자를 사용하세요\n",
    "        6. 유사 검색이 필요한 경우 LIKE '%키워드%' 를 사용하세요\n",
    "        7. 관련된 모든 결과를 찾기 위해 적절히 OR 조건을 활용하세요\n",
    "        \"\"\"\n",
    "        self.prompt = ChatPromptTemplate.from_template(self.template)\n",
    "        self.llm = Ollama(model=\"gemma2\", temperature=0)\n",
    "        self.chain = LLMChain(llm=self.llm, prompt=self.prompt)\n",
    "\n",
    "    def generate_query(self, question: str, schema_info: str, feedback_info: str = \"\") -> str:\n",
    "        \"\"\"질문에 대한 SQL 쿼리를 생성합니다.\"\"\"\n",
    "        response = self.chain.run(\n",
    "            question=question,\n",
    "            schema_info=schema_info,\n",
    "            feedback_info=feedback_info\n",
    "        )\n",
    "        return self.extract_sql_query(response)\n",
    "\n",
    "    @staticmethod\n",
    "    def extract_sql_query(response: str) -> str:\n",
    "        \"\"\"응답에서 SQL 쿼리를 추출합니다.\"\"\"\n",
    "        response = response.replace('```sql', '').replace('```', '').strip()\n",
    "        match = re.search(r'SELECT.*?;', response, re.DOTALL | re.IGNORECASE)\n",
    "        return match.group(0).strip() if match else response.strip()"
   ]
  },
  {
   "cell_type": "code",
   "execution_count": null,
   "id": "5109d068-8176-4634-a743-088cfd2b933b",
   "metadata": {},
   "outputs": [],
   "source": []
  }
 ],
 "metadata": {
  "kernelspec": {
   "display_name": ".venv",
   "language": "python",
   "name": "python3"
  },
  "language_info": {
   "codemirror_mode": {
    "name": "ipython",
    "version": 3
   },
   "file_extension": ".py",
   "mimetype": "text/x-python",
   "name": "python",
   "nbconvert_exporter": "python",
   "pygments_lexer": "ipython3",
   "version": "3.10.6"
  }
 },
 "nbformat": 4,
 "nbformat_minor": 5
}
