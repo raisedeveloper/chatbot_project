{
 "cells": [
  {
   "cell_type": "code",
   "execution_count": null,
   "id": "a26bc2e3-7fbd-42f4-8073-96e6fb689fc4",
   "metadata": {},
   "outputs": [],
   "source": [
    "from typing import Tuple, List, Optional\n",
    "from sqlalchemy import text, inspect\n",
    "from config import Config"
   ]
  },
  {
   "cell_type": "code",
   "execution_count": 1,
   "id": "fc4b3e3b-0b64-4dcc-be43-0d74c534d847",
   "metadata": {},
   "outputs": [
    {
     "ename": "NameError",
     "evalue": "name 'Config' is not defined",
     "output_type": "error",
     "traceback": [
      "\u001b[1;31m---------------------------------------------------------------------------\u001b[0m",
      "\u001b[1;31mNameError\u001b[0m                                 Traceback (most recent call last)",
      "Cell \u001b[1;32mIn[1], line 1\u001b[0m\n\u001b[1;32m----> 1\u001b[0m logger \u001b[38;5;241m=\u001b[39m \u001b[43mConfig\u001b[49m\u001b[38;5;241m.\u001b[39msetup_logging()\n",
      "\u001b[1;31mNameError\u001b[0m: name 'Config' is not defined"
     ]
    }
   ],
   "source": [
    "logger = Config.setup_logging()"
   ]
  },
  {
   "cell_type": "code",
   "execution_count": null,
   "id": "811e79c3-b3d9-4e1b-b1ff-6ff506070c47",
   "metadata": {},
   "outputs": [],
   "source": [
    "class DatabaseInterface:\n",
    "    \"\"\"데이터베이스 작업을 처리하는 클래스\"\"\"\n",
    "    \n",
    "    def __init__(self):  # engine 파라미터 제거\n",
    "        \"\"\"SQLAlchemy 엔진을 초기화합니다.\"\"\"\n",
    "        self.engine = Config.get_engine()  # Config에서 직접 engine 생성\n",
    "        self.inspector = inspect(self.engine)\n",
    "\n",
    "    def get_schema_info(self) -> str:\n",
    "        \"\"\"데이터베이스 스키마 정보를 반환합니다.\"\"\"\n",
    "        schema_info = []\n",
    "        try:\n",
    "            tables = self.inspector.get_table_names()\n",
    "            for table in tables:\n",
    "                columns = self.inspector.get_columns(table)\n",
    "                column_info = [f\"{col['name']} ({col['type'].__class__.__name__})\" for col in columns]\n",
    "                schema_info.append(f\"테이블: {table}\\n컬럼: {', '.join(column_info)}\")\n",
    "            return \"\\n\\n\".join(schema_info)\n",
    "        except Exception as e:\n",
    "            logger.error(f\"스키마 정보 조회 중 오류 발생: {e}\")\n",
    "            return f\"스키마 정보 조회 실패: {str(e)}\"\n",
    "\n",
    "    def execute_query(self, query: str) -> Tuple[Optional[List[str]], List[Tuple]]:\n",
    "        \"\"\"SQL 쿼리를 실행하고 결과를 반환합니다.\"\"\"\n",
    "        try:\n",
    "            with self.engine.connect() as connection:\n",
    "                result = connection.execute(text(query))\n",
    "                columns = list(result.keys()) if result.keys() else []\n",
    "                rows = result.fetchall()\n",
    "                return columns, rows\n",
    "        except Exception as e:\n",
    "            logger.error(f\"쿼리 실행 오류: {e}\")\n",
    "            return None, [(f\"쿼리 실행 중 오류가 발생했습니다: {str(e)}\",)]"
   ]
  },
  {
   "cell_type": "code",
   "execution_count": null,
   "id": "0ea943f0-faf4-48a5-9d06-46a64a43cdfb",
   "metadata": {},
   "outputs": [],
   "source": []
  }
 ],
 "metadata": {
  "kernelspec": {
   "display_name": ".venv",
   "language": "python",
   "name": "python3"
  },
  "language_info": {
   "codemirror_mode": {
    "name": "ipython",
    "version": 3
   },
   "file_extension": ".py",
   "mimetype": "text/x-python",
   "name": "python",
   "nbconvert_exporter": "python",
   "pygments_lexer": "ipython3",
   "version": "3.10.6"
  }
 },
 "nbformat": 4,
 "nbformat_minor": 5
}
