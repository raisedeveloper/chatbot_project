{
 "cells": [
  {
   "cell_type": "code",
   "execution_count": 1,
   "id": "3c487579-18fb-4f19-9584-fd8c254777ed",
   "metadata": {},
   "outputs": [],
   "source": [
    "import json\n",
    "import os\n",
    "from typing import List, Dict, Any, Optional\n",
    "from datetime import datetime\n",
    "import importlib\n",
    "import config\n",
    "importlib.reload(config)\n",
    "from config import Config"
   ]
  },
  {
   "cell_type": "code",
   "execution_count": 2,
   "id": "fae2be98-fc27-406a-b5cd-41b583e1787d",
   "metadata": {},
   "outputs": [],
   "source": [
    "logger = Config.setup_logging()"
   ]
  },
  {
   "cell_type": "code",
   "execution_count": 3,
   "id": "54b23d75-ec12-49e8-8011-8f7c96e743fd",
   "metadata": {},
   "outputs": [],
   "source": [
    "class QueryFeedbackManager:\n",
    "    \"\"\"피드백 관리를 위한 클래스\"\"\"\n",
    "    \n",
    "    def __init__(self, feedback_file: str):\n",
    "        self.feedback_file = feedback_file\n",
    "        self.last_question: str = \"\"\n",
    "        \n",
    "    def load_feedback(self) -> List[Dict[str, Any]]:\n",
    "        \"\"\"피드백 데이터를 로드하고 유효성을 검증합니다.\"\"\"\n",
    "        if not os.path.exists(self.feedback_file):\n",
    "            return []\n",
    "        try:\n",
    "            with open(self.feedback_file, 'r', encoding='utf-8') as f:\n",
    "                data = json.load(f)\n",
    "                if not isinstance(data, list):\n",
    "                    logger.warning(\"잘못된 피드백 데이터 형식입니다. 빈 리스트로 초기화합니다.\")\n",
    "                    return []\n",
    "                return data\n",
    "        except json.JSONDecodeError as e:\n",
    "            logger.error(f\"피드백 파일 파싱 오류: {e}\")\n",
    "            return []\n",
    "\n",
    "    def save_feedback(self, feedback_data: List[Dict[str, Any]]) -> None:\n",
    "        \"\"\"피드백 데이터를 저장하고 오류를 처리합니다.\"\"\"\n",
    "        try:\n",
    "            with open(self.feedback_file, 'w', encoding='utf-8') as f:\n",
    "                json.dump(feedback_data, f, ensure_ascii=False, indent=4)\n",
    "        except Exception as e:\n",
    "            logger.error(f\"피드백 저장 중 오류 발생: {e}\")\n",
    "\n",
    "    def find_similar_feedback(self, question: str) -> Optional[Dict[str, Any]]:\n",
    "        \"\"\"유사한 질문에 대한 피드백을 찾습니다.\"\"\"\n",
    "        feedback_data = self.load_feedback()\n",
    "        # 정확한 일치 먼저 확인\n",
    "        exact_match = next((fb for fb in feedback_data if fb['question'].lower() == question.lower()), None)\n",
    "        if exact_match:\n",
    "            return exact_match\n",
    "        \n",
    "        # 부분 일치 확인 (키워드 기반)\n",
    "        keywords = question.lower().split()\n",
    "        for feedback in feedback_data:\n",
    "            feedback_keywords = feedback['question'].lower().split()\n",
    "            if any(keyword in feedback_keywords for keyword in keywords):\n",
    "                return feedback\n",
    "        return None"
   ]
  },
  {
   "cell_type": "code",
   "execution_count": null,
   "id": "a3057bc4-bea9-48ad-82d8-a12c8204b0a8",
   "metadata": {},
   "outputs": [],
   "source": []
  }
 ],
 "metadata": {
  "kernelspec": {
   "display_name": ".venv",
   "language": "python",
   "name": "python3"
  },
  "language_info": {
   "codemirror_mode": {
    "name": "ipython",
    "version": 3
   },
   "file_extension": ".py",
   "mimetype": "text/x-python",
   "name": "python",
   "nbconvert_exporter": "python",
   "pygments_lexer": "ipython3",
   "version": "3.10.6"
  }
 },
 "nbformat": 4,
 "nbformat_minor": 5
}
